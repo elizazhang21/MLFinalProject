{
 "cells": [
  {
   "cell_type": "markdown",
   "metadata": {},
   "source": [
    "# Deep Portfolio Theory - analyze the ability of a Neural Network based approach to uncover market factors\n",
    "### Data\n",
    "Synthetic data and S&P 500 daily returns data.\n",
    "\n",
    "###  Objective\n",
    "Compare PCA and Neural Networks in their ability to uncover market factors, and apply to portfolio construction.\n",
    "\n",
    "1. Generate synthetic stock return data with one market factor and autoregressive residuals. Then use PCA the uncover and estimate mean reversion and volatility of residuals.\n",
    "2. Try to uncover the factors and the residuals using the Deep Learning approach.\n",
    "3. Do the analysis with the S&P 500 data. You may want to add technical indicators as additional predictors.\n",
    "\n",
    "### Literatures\n",
    "1. J. Yeo and G. Papanicolaou, “Random Matrix Approach to Estimation of High-Dimensional Factor Models” (2016) (https://arxiv.org/pdf/1611.05571.pdf)\n",
    "2. J. Heaton, N. Polson, J. Witte, “Deep Portfolio Theory”\n",
    "https://arxiv.org/abs/1605.07230\n",
    "3. N. Polson and V. Sokolov, “Deep Learning: a Bayesian Perspective” (2017) https://arxiv.org/abs/1706.00473\n",
    "4. L.Troiano, E. Mejuto, and P. Kriplani, “On Feature Reduction using Deep Learning for Trend Prediction in Finance” (2016) https://arxiv.org/abs/1704.03205\n"
   ]
  },
  {
   "cell_type": "code",
   "execution_count": 10,
   "metadata": {},
   "outputs": [],
   "source": [
    "import numpy as np\n",
    "np.warnings.filterwarnings(\"ignore\")\n",
    "\n",
    "import pandas as pd\n",
    "import scipy\n",
    "from datetime import datetime\n",
    "import time\n",
    "import pytz\n",
    "import matplotlib.pyplot as plt\n",
    "%matplotlib inline\n",
    "\n",
    "import tensorflow as tf\n",
    "from tensorflow.python.framework import ops\n",
    "from tensorflow.python.layers import core as core_layers\n",
    "\n",
    "import pandas_datareader.data as web\n",
    "import talib\n",
    "from talib import MA_Type\n",
    "\n",
    "from numpy.random import seed\n",
    "from scipy.stats import norm\n",
    "import scipy.stats as stats\n",
    "from scipy.linalg import sqrtm\n",
    "\n",
    "from sklearn import datasets,metrics, linear_model, svm\n",
    "from sklearn import preprocessing as prep\n",
    "from sklearn.decomposition import PCA\n",
    "import statsmodels.api as sm\n",
    "\n",
    "import warnings\n",
    "warnings.filterwarnings(action=\"ignore\", module=\"scipy\", message=\"^internal gelsd\")\n",
    "warnings.filterwarnings(action=\"ignore\", module=\"pandas\")\n",
    "\n",
    "# utility function to reset the TF graph to the same state each time\n",
    "def reset_graph():\n",
    "    tf.reset_default_graph()\n",
    "    tf.set_random_seed(42)\n",
    "    np.random.seed(42)"
   ]
  },
  {
   "cell_type": "markdown",
   "metadata": {},
   "source": [
    "## 1.1 Generating synthetic data.\n",
    "\n",
    "J.Yeo adn G. Papanicolaou's model of generating synthetic data:\n",
    "$$R = LF + U$$\n",
    "R = synthetic return (N $\\times$ T)\n",
    "\n",
    "L = factor loading (N $\\times$ p)\n",
    "\n",
    "F = Factor (p $\\times$ T)\n",
    "\n",
    "U = synthetic residuals (N $\\times$ T)\n",
    "\n",
    "$U = A_N^{1/2}\\epsilon B_T^{1/2}$\n",
    "\n",
    "$A_N = \\{ (A_N)_{ii} = 1,(A_N)_{ij, i\\neq j} = \\beta \\}$\n",
    "\n",
    "$B_T = \\{ (B_T)_{st} = exp(-|s-t|/\\tau)\\}$\n",
    "\n",
    "We first create a class to generate synthetic data."
   ]
  },
  {
   "cell_type": "code",
   "execution_count": 2,
   "metadata": {},
   "outputs": [],
   "source": [
    "class syn_data:\n",
    "    def __init__(self, b, p, N, T):\n",
    "        A = np.eye(N)\n",
    "        B = np.ones((T,T))\n",
    "        noise = np.random.normal(size = (N,T))\n",
    "        for s in range(T):\n",
    "            for t in range(T):\n",
    "                B[s][t] = b ** (np.abs(s-t))\n",
    "        U = A.dot(noise).dot(sqrtm(B))\n",
    "        self.U = U\n",
    "        self.factor = np.random.normal(size=(p, T))\n",
    "        self.factor_loading = np.random.normal(size=(N,p))/p\n",
    "        \n",
    "        self.ret = np.dot(self.factor_loading, self.factor) + U"
   ]
  },
  {
   "cell_type": "code",
   "execution_count": 3,
   "metadata": {},
   "outputs": [],
   "source": [
    "# Set parameter for the data set. Number of feature is 1, N = T = 50.\n",
    "p = 1\n",
    "N = 50\n",
    "T = 50"
   ]
  },
  {
   "cell_type": "code",
   "execution_count": 4,
   "metadata": {},
   "outputs": [],
   "source": [
    "def linear_regression(data):\n",
    "    ret = data.ret\n",
    "    factor = data.factor\n",
    "    # add_bias\n",
    "    factor_b = np.concatenate((factor, np.ones(T).reshape(1,-1)),axis=0)\n",
    "    \n",
    "    regr = linear_model.LinearRegression()\n",
    "    regr.fit(factor_b.T, ret.T)\n",
    "    coef = regr.coef_[:,0].reshape(-1,1)\n",
    "    ret_1 = np.dot(coef, factor)\n",
    "    U = ret - ret_1\n",
    "    \n",
    "    b_estimate = []\n",
    "    corr = pd.DataFrame(U).corr()\n",
    "    for t in range(T-1):\n",
    "        b_estimate.append(corr[t+1][t])\n",
    "    return np.mean(b_estimate)\n"
   ]
  },
  {
   "cell_type": "code",
   "execution_count": 5,
   "metadata": {},
   "outputs": [],
   "source": [
    "def PCA(data):\n",
    "    ret = data.ret\n",
    "    factor_loading = data.factor_loading.reshape(-1,1)\n",
    "    \n",
    "    eig = np.linalg.eig(np.cov(ret))\n",
    "    eig_value = eig[0]\n",
    "    idx = np.argsort(eig_value)[::-1][:p]\n",
    "    eig_value = eig[0][idx]\n",
    "    eig_vector = eig[1][idx]\n",
    "    \n",
    "    X = eig_vector.dot(ret)\n",
    "    U = ret - factor_loading.dot(X)\n",
    "    \n",
    "    b_estimate = []\n",
    "    corr = pd.DataFrame(U).corr()\n",
    "    for t in range(T-1):\n",
    "        b_estimate.append(corr[t+1][t])\n",
    "    return np.mean(b_estimate)"
   ]
  },
  {
   "cell_type": "code",
   "execution_count": 6,
   "metadata": {},
   "outputs": [],
   "source": [
    "class AutoEncoder_layer1:\n",
    "    def __init__(self, n_input = N, num_hidden=5, activation_function=tf.nn.relu, learning_rate = 0.01, optimizer = tf.train.GradientDescentOptimizer):\n",
    "        self.X = tf.placeholder(\"float\", [None, n_input])\n",
    "        self.Y = tf.placeholder(\"float\", [None, 1])\n",
    "        \n",
    "        self.activation = activation_function\n",
    "        self.weight_encoder = tf.Variable(tf.random_normal([n_input, num_hidden]))\n",
    "        self.weight_decoder = tf.Variable(tf.random_normal([num_hidden, n_input]))\n",
    "        self.bias_encoder = tf.Variable(tf.random_normal([num_hidden]))\n",
    "        self.bias_decoder = tf.Variable(tf.random_normal([n_input]))\n",
    "        \n",
    "        encoder_op = self.encoder()\n",
    "        decoder_op = self.decoder(encoder_op)\n",
    "        self.x_predict=decoder_op\n",
    "        self.x_true = self.X\n",
    "        \n",
    "        # Define loss and optimizer, minimize the squared error\n",
    "        self.loss = tf.reduce_mean(tf.square(decoder_op - self.X))\n",
    "        self.optimizer =  optimizer(learning_rate).minimize(self.loss)\n",
    "        self.U = self.X - self.x_predict\n",
    "    \n",
    "    def encoder(self):\n",
    "        layer = self.activation(tf.add(tf.matmul(self.X, self.weight_encoder),self.bias_encoder))\n",
    "        return layer\n",
    "    \n",
    "    def decoder(self,Y):\n",
    "        layer = self.activation(tf.add(tf.matmul(Y, self.weight_decoder),self.bias_decoder))\n",
    "        return layer"
   ]
  },
  {
   "cell_type": "code",
   "execution_count": 7,
   "metadata": {},
   "outputs": [],
   "source": [
    "def NN(data):\n",
    "    X = data.ret.reshape((N,T))\n",
    "    model = AutoEncoder_layer1()\n",
    "    \n",
    "    with tf.Session() as sess:\n",
    "        sess.run(tf.global_variables_initializer())\n",
    "        for i in range(1000):\n",
    "            _=sess.run(model.optimizer, feed_dict={model.X: X})\n",
    "            \n",
    "        U = sess.run(model.U, feed_dict={model.X: X})\n",
    "    b_estimate = []\n",
    "    corr = pd.DataFrame(U).corr()\n",
    "    for t in range(T-1):\n",
    "        b_estimate.append(corr[t+1][t])\n",
    "    b = np.mean(b_estimate)\n",
    "    return b"
   ]
  },
  {
   "cell_type": "code",
   "execution_count": 8,
   "metadata": {},
   "outputs": [
    {
     "name": "stdout",
     "output_type": "stream",
     "text": [
      "Computational time: 230.44047808647156 seconds\n"
     ]
    }
   ],
   "source": [
    "reset_graph()\n",
    "starttime = time.time()\n",
    "\n",
    "b_lr = []\n",
    "b_pca = []\n",
    "b_NN = []\n",
    "\n",
    "# setting b value (0,1), step = 0.01\n",
    "b_set = np.linspace(0,0.99,100)\n",
    "\n",
    "for b in b_set:\n",
    "    # generating data with b\n",
    "    data = syn_data(b, p, N, T)\n",
    "    \n",
    "    b_lr.append(linear_regression(data))\n",
    "    b_pca.append(PCA(data))\n",
    "    b_NN.append(NN(data))\n",
    "\n",
    "endtime = time.time()\n",
    "print('Computational time:', endtime - starttime, 'seconds')"
   ]
  },
  {
   "cell_type": "code",
   "execution_count": 13,
   "metadata": {},
   "outputs": [
    {
     "name": "stdout",
     "output_type": "stream",
     "text": [
      "Error with Linear Regression is 0.00035427665666428555.\n",
      "Error with PCA is 0.06311390858042264.\n",
      "Error with Neural Network is 0.06070906511195742.\n"
     ]
    }
   ],
   "source": [
    "error_lr = np.average((b_set-b_lr)**2)\n",
    "print(\"Error with Linear Regression is \" + str(error_lr) + \".\")\n",
    "error_pca = np.average((b_set-b_pca)**2)\n",
    "print(\"Error with PCA is \" + str(error_pca)+ \".\")\n",
    "error_nn = np.average((b_set-b_NN)**2)\n",
    "print(\"Error with Neural Network is \" + str(error_nn)+ \".\")"
   ]
  },
  {
   "cell_type": "code",
   "execution_count": 14,
   "metadata": {},
   "outputs": [
    {
     "data": {
      "image/png": "[encoded data removed]",
      "text/plain": [
       "<matplotlib.figure.Figure at 0x12af624e0>"
      ]
     },
     "metadata": {},
     "output_type": "display_data"
    }
   ],
   "source": [
    "# plot b_estimate by 3 approaches\n",
    "plt.plot(b_set, b_lr, label='b_estimate_LR')\n",
    "plt.plot(b_set, b_pca, label='b_estimate_PCA')\n",
    "plt.plot(b_set, b_NN, label='b_estimate_NN')\n",
    "plt.legend()\n",
    "plt.xlabel(\"b\")\n",
    "plt.ylabel(\"b estimate\")\n",
    "plt.title(\"b estimate vs. b\")\n",
    "plt.show()"
   ]
  },
  {
   "cell_type": "code",
   "execution_count": 15,
   "metadata": {},
   "outputs": [],
   "source": [
    "reset_graph()\n",
    "# plot loss in NN approach\n",
    "data = syn_data(0.5,p,N,T)\n",
    "X = data.ret.reshape((N,T))\n",
    "model = AutoEncoder_layer1()\n",
    "train_steps = []\n",
    "losses = []\n",
    "    \n",
    "# Define loss and optimizer, minimize the squared error\n",
    "    \n",
    "with tf.Session() as sess:\n",
    "    sess.run(tf.global_variables_initializer())\n",
    "    for i in range(1000):\n",
    "        _=sess.run(model.optimizer, feed_dict={model.X: X})\n",
    "        if i%10 == 0:\n",
    "            train_steps.append(i)\n",
    "            loss = sess.run(model.loss, feed_dict={model.X: X})\n",
    "            losses.append(loss)"
   ]
  },
  {
   "cell_type": "code",
   "execution_count": 16,
   "metadata": {},
   "outputs": [
    {
     "data": {
      "image/png": "[encoded data removed]",
      "text/plain": [
       "<matplotlib.figure.Figure at 0x12b9489b0>"
      ]
     },
     "metadata": {},
     "output_type": "display_data"
    }
   ],
   "source": [
    "plt.plot(train_steps,losses)\n",
    "plt.xlabel(\"Training_Steps\")\n",
    "plt.ylabel(\"Loss\")\n",
    "plt.title(\"Loss in NN Approach\")\n",
    "plt.show()"
   ]
  },
  {
   "cell_type": "markdown",
   "metadata": {},
   "source": [
    "## Uncover factors with Auto-Encoder\n",
    "Now we try to uncover 50 factors using Auto-Encoder and use these extracted features to make prediction using auto-encoder.\n",
    "\n",
    "Architecturally, the simplest form of an autoencoder is a feedforward, non-recurrent neural network very similar to the multilayer perceptron (MLP) – having an input layer, an output layer and one or more hidden layers connecting them – but with the output layer having the same number of nodes as the input layer, and with the purpose of reconstructing its own inputs (instead of predicting the target value $Y$ given inputs $X$. Therefore, autoencoders are unsupervised learning models.\n",
    "\n",
    "For better understanding the structure of AutoEncoder, this time we set the number of hidden layers = 2( [20, 10] ), activation function is sigmoid, the optimizer is AdamOptimizer, loss is definded as minimum squared error.\n",
    "\n",
    "Here we have p = 50, N = T = 50, then we reconstruct its own input and get the graph conparing the original data and the reconstructed data(output). The result is actually quite a satisfaction.\n"
   ]
  },
  {
   "cell_type": "code",
   "execution_count": 17,
   "metadata": {},
   "outputs": [],
   "source": [
    "class AutoEncoder_layer2:\n",
    "    def __init__(self, n_input, num_hidden=[20,10], activation_function=tf.nn.sigmoid, learning_rate = 0.01, optimizer = tf.train.AdamOptimizer, error=\"MSE\"):\n",
    "        self.X = tf.placeholder(\"float\", [None, n_input])\n",
    "        self.Y = tf.placeholder(\"float\", [None, 1])\n",
    "        \n",
    "        self.activation = activation_function\n",
    "        num_hidden_1, num_hidden_2 = num_hidden\n",
    "        self.weight_encoder_1 = tf.Variable(tf.random_normal([n_input, num_hidden_1]))\n",
    "        self.weight_encoder_2 = tf.Variable(tf.random_normal([num_hidden_1, num_hidden_2]))\n",
    "        self.weight_decoder_1 = tf.Variable(tf.random_normal([num_hidden_2, num_hidden_1]))\n",
    "        self.weight_decoder_2 = tf.Variable(tf.random_normal([num_hidden_1, n_input]))\n",
    "        self.bias_encoder_1 = tf.Variable(tf.random_normal([num_hidden_1]))\n",
    "        self.bias_encoder_2 = tf.Variable(tf.random_normal([num_hidden_2]))\n",
    "        self.bias_decoder_1 = tf.Variable(tf.random_normal([num_hidden_1]))\n",
    "        self.bias_decoder_2 = tf.Variable(tf.random_normal([n_input]))\n",
    "        \n",
    "        encoder_op = self.encoder()\n",
    "        decoder_op = self.decoder(encoder_op)\n",
    "        self.x_predict = decoder_op\n",
    "        self.x_true = self.X\n",
    "        \n",
    "        # Define loss and optimizer, minimize the squared error\n",
    "        if error == \"MSE\":\n",
    "            self.loss = tf.reduce_mean(tf.square(decoder_op - self.X))\n",
    "        else:\n",
    "            self.loss = tf.reduce_mean(tf.nn.sigmoid_cross_entropy_with_logits(logits=decoder_op,labels=self.X))\n",
    "        \n",
    "        self.optimizer = optimizer(learning_rate).minimize(self.loss)\n",
    "        self.U = self.X - self.x_predict\n",
    "    \n",
    "    def encoder(self):\n",
    "        layer_1 = self.activation(tf.add(tf.matmul(self.X, self.weight_encoder_1),self.bias_encoder_1))\n",
    "        layer_2 = self.activation(tf.add(tf.matmul(self.weight_encoder_1, self.weight_encoder_2),self.bias_encoder_2))\n",
    "        return layer_2\n",
    "\n",
    "    def decoder(self,Y):\n",
    "        layer_1 = self.activation(tf.add(tf.matmul(Y, self.weight_decoder_1),self.bias_decoder_1))\n",
    "        layer_2 = tf.add(tf.matmul(layer_1, self.weight_decoder_2),self.bias_decoder_2)\n",
    "        return layer_2"
   ]
  },
  {
   "cell_type": "code",
   "execution_count": 18,
   "metadata": {
    "scrolled": true
   },
   "outputs": [],
   "source": [
    "reset_graph()\n",
    "N = 50\n",
    "T = 50\n",
    "p = 50\n",
    "b = 0\n",
    "data = syn_data(b, p, N, T)\n",
    "ret = data.ret\n",
    "R = ret.reshape((N*T))\n",
    "X = ret.reshape((N,T))\n",
    "AEmodel = AutoEncoder_layer2(n_input=N, error=\"MSE\")\n",
    "U_origin = data.U\n",
    "losses = []\n",
    "with tf.Session() as sess:\n",
    "    sess.run(tf.global_variables_initializer())\n",
    "    for i in range(1000):\n",
    "        _=sess.run(AEmodel.optimizer, feed_dict={AEmodel.X: X})\n",
    "        loss=sess.run(AEmodel.loss, feed_dict={AEmodel.X: X})\n",
    "        losses.append(loss)\n",
    "        R_predict= sess.run(AEmodel.x_predict, feed_dict={AEmodel.X: X})\n",
    "R_MSE = R_predict.reshape((N*T))"
   ]
  },
  {
   "cell_type": "code",
   "execution_count": 19,
   "metadata": {},
   "outputs": [
    {
     "data": {
      "image/png": "[encoded data removed]",
      "text/plain": [
       "<matplotlib.figure.Figure at 0x123ea85f8>"
      ]
     },
     "metadata": {},
     "output_type": "display_data"
    }
   ],
   "source": [
    "plt.figure(figsize=(5,5))\n",
    "plt.scatter(R, R_MSE, s=3, c=\"blueviolet\")\n",
    "plt.xlabel(\"R_origin\")\n",
    "plt.xlim((-4.2, 4.2))\n",
    "plt.ylabel(\"R_predict\")\n",
    "plt.ylim((-4.2, 4.2))\n",
    "plt.title(\"R_predict vs R_origin using AutoEncoder, error=MSE\")\n",
    "plt.show()"
   ]
  },
  {
   "cell_type": "code",
   "execution_count": 20,
   "metadata": {},
   "outputs": [
    {
     "data": {
      "image/png": "[encoded data removed]",
      "text/plain": [
       "<matplotlib.figure.Figure at 0x125923630>"
      ]
     },
     "metadata": {},
     "output_type": "display_data"
    }
   ],
   "source": [
    "plt.plot(losses, c=\"hotpink\")\n",
    "plt.xlabel(\"iter_num\")\n",
    "plt.ylabel(\"Loss\")\n",
    "plt.title(\"Losses\")\n",
    "plt.show()"
   ]
  },
  {
   "cell_type": "markdown",
   "metadata": {},
   "source": [
    "### Now we set N = 1 and T = 1000 to see how AutoEncoder works within long time range."
   ]
  },
  {
   "cell_type": "code",
   "execution_count": 11,
   "metadata": {},
   "outputs": [],
   "source": [
    "class AutoEncoder:\n",
    "    def __init__(self,n_input,n_output =1,hidden_layers=[25,15,10],regress_layer_shape = [10,10],\\\n",
    "                 l=0,learning_rate=0.01,activation_X=tf.nn.relu,activation_Y = tf.nn.sigmoid, optimizer = tf.train.AdamOptimizer):\n",
    "        self.X = tf.placeholder(\"float\", [None, n_input])\n",
    "        self.Y = tf.placeholder(\"float\", [None, n_output])\n",
    "        \n",
    "        self.hidden_layers = hidden_layers\n",
    "        self.regress_layer_shape = regress_layer_shape\n",
    "        \n",
    "        # activation_X is for Auto-encoder part\n",
    "        # activation_Y is for predicting returns\n",
    "        self.activation = activation_X\n",
    "        \n",
    "        self.weight_encoder = [0] * 3\n",
    "        self.weight_decoder = [0] * 3\n",
    "        self.bias_encoder = [0] * 3\n",
    "        self.bias_decoder = [0] * 3\n",
    "        \n",
    "        # define encoder weights\n",
    "        self.weight_encoder[0] = tf.Variable(tf.random_normal([n_input, hidden_layers[0]]))\n",
    "        self.weight_encoder[1] = tf.Variable(tf.random_normal([hidden_layers[0], hidden_layers[1]]))\n",
    "        self.weight_encoder[2] = tf.Variable(tf.random_normal([hidden_layers[1], hidden_layers[2]]))\n",
    "        \n",
    "        # define decoder weights\n",
    "        self.weight_decoder[0] = tf.Variable(tf.random_normal([hidden_layers[2], hidden_layers[1]]))\n",
    "        self.weight_decoder[1] = tf.Variable(tf.random_normal([hidden_layers[1], hidden_layers[0]]))\n",
    "        self.weight_decoder[2] = tf.Variable(tf.random_normal([hidden_layers[0], n_input]))\n",
    "        \n",
    "        # define bias_encoder\n",
    "        self.bias_encoder[0] = tf.Variable(tf.random_normal([hidden_layers[0]]))\n",
    "        self.bias_encoder[1] = tf.Variable(tf.random_normal([hidden_layers[1]]))\n",
    "        self.bias_encoder[2] = tf.Variable(tf.random_normal([hidden_layers[2]]))\n",
    "        \n",
    "        # define bias_decoder\n",
    "        self.bias_decoder[0] = tf.Variable(tf.random_normal([hidden_layers[1]]))\n",
    "        self.bias_decoder[1] = tf.Variable(tf.random_normal([hidden_layers[0]]))\n",
    "        self.bias_decoder[2] = tf.Variable(tf.random_normal([n_input]))\n",
    "        \n",
    "        # define encoder_optimazer\n",
    "        encoder_op = self.encoder()\n",
    "        self.y_predict = self.predict(encoder_op, hidden_layers[-1], n_output, activation_Y)\n",
    "        decoder_op = self.decoder(encoder_op)\n",
    "        \n",
    "        self.x_predict = decoder_op\n",
    "        self.x_true = self.X\n",
    "        \n",
    "        # mean square error loss\n",
    "        self.loss_X = tf.reduce_mean(tf.square(self.x_true - self.x_predict)) \n",
    "        self.loss_Y = tf.reduce_mean(tf.square(self.Y - self.y_predict))\n",
    "        \n",
    "        # we have a L1 regulariation for all the weight\n",
    "        self.weight_encoder = np.array(self.weight_encoder)\n",
    "        self.weight_decoder = np.array(self.weight_decoder)\n",
    "        penalty = tf.constant(0.02)\n",
    "        for i in range(len(self.weight_encoder)):\n",
    "            penalty =tf.add(penalty, tf.reduce_mean(tf.abs(self.weight_encoder[i])))\n",
    "            penalty = tf.add(penalty, tf.reduce_mean(tf.abs(self.weight_decoder[i])))\n",
    "        self.penalty = tf.reduce_mean(penalty)\n",
    "        self.loss_X = tf.add(self.loss_X, l * self.penalty)\n",
    "        self.loss = tf.add(self.loss_X, self.loss_Y)\n",
    "        #loss of predictions, which is equal to the loss of autoencoder part and neural network part.\n",
    "        self.optimizer =  optimizer(learning_rate).minimize(self.loss)\n",
    "        \n",
    "    def encoder(self):\n",
    "        layer = self.activation(tf.add(tf.matmul(self.X, self.weight_encoder[0]),self.bias_encoder[0]))\n",
    "        layer = self.activation(tf.add(tf.matmul(layer, self.weight_encoder[1]),self.bias_encoder[1]))\n",
    "        layer = self.activation(tf.add(tf.matmul(layer, self.weight_encoder[2]),self.bias_encoder[2]))\n",
    "        return layer\n",
    "    \n",
    "    def decoder(self,Y):\n",
    "        layer = self.activation(tf.add(tf.matmul(Y, self.weight_decoder[0]),self.bias_decoder[0]))\n",
    "        layer = self.activation(tf.add(tf.matmul(layer, self.weight_decoder[1]),self.bias_decoder[1]))\n",
    "        layer = self.activation(tf.add(tf.matmul(layer, self.weight_decoder[2]),self.bias_decoder[2]))\n",
    "        return layer\n",
    "    \n",
    "    # define function \"predict\" to predict Y using encoder_op, which is the deepest inner layer\n",
    "    def predict(self,X,n_input,n_output,activation):\n",
    "        previous_layer_output = X\n",
    "        previous_layer_size = n_input\n",
    "        regress_layer_shape_full = self.regress_layer_shape + [n_output]\n",
    "        # define all layers\n",
    "        for i in range(0, len(regress_layer_shape_full)):\n",
    "            if i < (len(regress_layer_shape_full) - 1):\n",
    "                # inner (hidden) layer\n",
    "                hidden_layer = core_layers.Dense(regress_layer_shape_full[i], activation=activation)   \n",
    "            else:\n",
    "                # output layer\n",
    "                hidden_layer = core_layers.Dense(regress_layer_shape_full[i])\n",
    "            hidden_layer.build([None, previous_layer_size])\n",
    "            # output of a hidden layer is an iput to the next layer\n",
    "            previous_layer_output = hidden_layer(previous_layer_output)\n",
    "            \n",
    "            # also redefine the size of the previous layer as the size of the current layer \n",
    "            previous_layer_size = regress_layer_shape_full[i]\n",
    "        return previous_layer_output"
   ]
  },
  {
   "cell_type": "code",
   "execution_count": 12,
   "metadata": {},
   "outputs": [],
   "source": [
    "reset_graph()\n",
    "N=1\n",
    "T=1000\n",
    "p=50\n",
    "b=0.5\n",
    "\n",
    "class syn_data2:\n",
    "    def __init__(self, b, p, N, T):\n",
    "        A = np.eye(N)\n",
    "        B = np.zeros((T,T))\n",
    "        F = np.zeros((p,T))\n",
    "        L = np.zeros((p,N))\n",
    "        for s in range(T):\n",
    "            for t in range(T):\n",
    "                B[s,t]=b**(np.abs(s-t))\n",
    "        noise = np.random.normal(size = (N,T))\n",
    "        U=A.dot(noise.dot(sqrtm(B))).T\n",
    "        F[0] = np.random.normal(size=T)\n",
    "        L[0] = np.random.normal(size=N)\n",
    "        self.F = F.T\n",
    "        self.R = self.F.dot(L) + U\n",
    "\n",
    "data = syn_data2(b, p ,N, T)\n",
    "R = data.R\n",
    "F = data.F"
   ]
  },
  {
   "cell_type": "code",
   "execution_count": 13,
   "metadata": {},
   "outputs": [
    {
     "name": "stdout",
     "output_type": "stream",
     "text": [
      "(750, 50)   (750, 1)\n",
      "(250, 50)   (250, 1)\n"
     ]
    }
   ],
   "source": [
    "n_train = int(T*3/4)\n",
    "F_train = F[:n_train]\n",
    "R_train = R[:n_train]\n",
    "F_test = F[n_train:]\n",
    "R_test = R[n_train:]\n",
    "print(F_train.shape, \" \", R_train.shape)\n",
    "print(F_test.shape, \" \", R_test.shape)"
   ]
  },
  {
   "cell_type": "code",
   "execution_count": 14,
   "metadata": {},
   "outputs": [],
   "source": [
    "model_auto = AutoEncoder(n_input=p,n_output=N,learning_rate=0.01)  "
   ]
  },
  {
   "cell_type": "code",
   "execution_count": 15,
   "metadata": {},
   "outputs": [
    {
     "name": "stdout",
     "output_type": "stream",
     "text": [
      "0.9171497\n",
      "Computational time: 34.26392483711243 seconds\n"
     ]
    }
   ],
   "source": [
    "losses_AE = []\n",
    "starttime = time.time()\n",
    "with tf.Session() as sess:\n",
    "    sess.run(tf.global_variables_initializer())\n",
    "    for i in range(5000):\n",
    "        _ = sess.run(model_auto.optimizer,feed_dict={model_auto.X:F_train,model_auto.Y:R_train})\n",
    "        loss = sess.run(model_auto.loss,feed_dict={model_auto.X:F_train,model_auto.Y:R_train})\n",
    "        output = sess.run(model_auto.y_predict,feed_dict={model_auto.X:F_train,model_auto.Y:R_train})\n",
    "        losses_AE.append(loss)\n",
    "    R_predict = sess.run(model_auto.y_predict,feed_dict={model_auto.X:F_test})\n",
    "endtime = time.time()\n",
    "print(loss)\n",
    "print('Computational time:', endtime - starttime, 'seconds')"
   ]
  },
  {
   "cell_type": "code",
   "execution_count": 24,
   "metadata": {},
   "outputs": [
    {
     "data": {
      "image/png": "[encoded data removed]",
      "text/plain": [
       "<matplotlib.figure.Figure at 0x120ddf0b8>"
      ]
     },
     "metadata": {},
     "output_type": "display_data"
    }
   ],
   "source": [
    "plt.plot(losses_AE[10:], c=\"darkblue\")\n",
    "plt.xlabel(\"n_iteration\")\n",
    "plt.ylabel(\"loss\")\n",
    "plt.title(\"loss for autoencoder\")\n",
    "plt.show()"
   ]
  },
  {
   "cell_type": "code",
   "execution_count": 25,
   "metadata": {},
   "outputs": [
    {
     "data": {
      "text/plain": [
       "1.0123584884270895"
      ]
     },
     "execution_count": 25,
     "metadata": {},
     "output_type": "execute_result"
    }
   ],
   "source": [
    "error_auto =  np.average((R_test-R_predict)**2)\n",
    "error_auto"
   ]
  },
  {
   "cell_type": "code",
   "execution_count": 27,
   "metadata": {},
   "outputs": [
    {
     "data": {
      "image/png": "[encoded data removed]",
      "text/plain": [
       "<matplotlib.figure.Figure at 0x11f6c8b70>"
      ]
     },
     "metadata": {},
     "output_type": "display_data"
    }
   ],
   "source": [
    "plt.scatter(R_test,R_predict, c=\"lightseagreen\")\n",
    "plt.xlabel(\"R_test\")\n",
    "plt.xlim(-2, 2)\n",
    "plt.ylim(-2, 2)\n",
    "plt.ylabel(\"R_test_predict\")\n",
    "plt.title('R vs R_predict with testing dataset')\n",
    "plt.show()"
   ]
  },
  {
   "cell_type": "markdown",
   "metadata": {},
   "source": [
    "# 3. Do the analysis with the S&P 500 data.\n",
    "We downloaded S&P 500 data with Yahoo Finance and retrieve data with Pandas.DataFrame structure.\n",
    "\n",
    "We add technical indicators as additional predictors. Talib is employed here in order to easily obtain these indicators."
   ]
  },
  {
   "cell_type": "code",
   "execution_count": 31,
   "metadata": {},
   "outputs": [
    {
     "data": {
      "text/html": [
       "<div>\n",
       "<style>\n",
       "    .dataframe thead tr:only-child th {\n",
       "        text-align: right;\n",
       "    }\n",
       "\n",
       "    .dataframe thead th {\n",
       "        text-align: left;\n",
       "    }\n",
       "\n",
       "    .dataframe tbody tr th {\n",
       "        vertical-align: top;\n",
       "    }\n",
       "</style>\n",
       "<table border=\"1\" class=\"dataframe\">\n",
       "  <thead>\n",
       "    <tr style=\"text-align: right;\">\n",
       "      <th></th>\n",
       "      <th>Date</th>\n",
       "      <th>Open</th>\n",
       "      <th>High</th>\n",
       "      <th>Low</th>\n",
       "      <th>Close</th>\n",
       "      <th>Adj Close</th>\n",
       "      <th>Volume</th>\n",
       "    </tr>\n",
       "  </thead>\n",
       "  <tbody>\n",
       "    <tr>\n",
       "      <th>0</th>\n",
       "      <td>2008-04-01</td>\n",
       "      <td>1326.410034</td>\n",
       "      <td>1370.180054</td>\n",
       "      <td>1326.410034</td>\n",
       "      <td>1370.180054</td>\n",
       "      <td>1370.180054</td>\n",
       "      <td>4745120000</td>\n",
       "    </tr>\n",
       "    <tr>\n",
       "      <th>1</th>\n",
       "      <td>2008-04-02</td>\n",
       "      <td>1369.959961</td>\n",
       "      <td>1377.949951</td>\n",
       "      <td>1361.550049</td>\n",
       "      <td>1367.530029</td>\n",
       "      <td>1367.530029</td>\n",
       "      <td>4320440000</td>\n",
       "    </tr>\n",
       "    <tr>\n",
       "      <th>2</th>\n",
       "      <td>2008-04-03</td>\n",
       "      <td>1365.689941</td>\n",
       "      <td>1375.660034</td>\n",
       "      <td>1358.680054</td>\n",
       "      <td>1369.310059</td>\n",
       "      <td>1369.310059</td>\n",
       "      <td>3920100000</td>\n",
       "    </tr>\n",
       "    <tr>\n",
       "      <th>3</th>\n",
       "      <td>2008-04-04</td>\n",
       "      <td>1369.849976</td>\n",
       "      <td>1380.910034</td>\n",
       "      <td>1362.829956</td>\n",
       "      <td>1370.400024</td>\n",
       "      <td>1370.400024</td>\n",
       "      <td>3703100000</td>\n",
       "    </tr>\n",
       "    <tr>\n",
       "      <th>4</th>\n",
       "      <td>2008-04-07</td>\n",
       "      <td>1373.689941</td>\n",
       "      <td>1386.739990</td>\n",
       "      <td>1369.020020</td>\n",
       "      <td>1372.540039</td>\n",
       "      <td>1372.540039</td>\n",
       "      <td>3747780000</td>\n",
       "    </tr>\n",
       "  </tbody>\n",
       "</table>\n",
       "</div>"
      ],
      "text/plain": [
       "         Date         Open         High          Low        Close  \\\n",
       "0  2008-04-01  1326.410034  1370.180054  1326.410034  1370.180054   \n",
       "1  2008-04-02  1369.959961  1377.949951  1361.550049  1367.530029   \n",
       "2  2008-04-03  1365.689941  1375.660034  1358.680054  1369.310059   \n",
       "3  2008-04-04  1369.849976  1380.910034  1362.829956  1370.400024   \n",
       "4  2008-04-07  1373.689941  1386.739990  1369.020020  1372.540039   \n",
       "\n",
       "     Adj Close      Volume  \n",
       "0  1370.180054  4745120000  \n",
       "1  1367.530029  4320440000  \n",
       "2  1369.310059  3920100000  \n",
       "3  1370.400024  3703100000  \n",
       "4  1372.540039  3747780000  "
      ]
     },
     "execution_count": 31,
     "metadata": {},
     "output_type": "execute_result"
    }
   ],
   "source": [
    "sp = pd.read_csv(\"S&P500.csv\")\n",
    "sp.head(5)"
   ]
  },
  {
   "cell_type": "code",
   "execution_count": 32,
   "metadata": {},
   "outputs": [],
   "source": [
    "open = sp[\"Open\"]\n",
    "high = sp[\"High\"]\n",
    "low = sp[\"Low\"]\n",
    "close = sp[\"Close\"]\n",
    "adj_close = sp[\"Adj Close\"]\n",
    "volume = sp[\"Volume\"]\n",
    "R = np.diff(np.log(adj_close.values))"
   ]
  },
  {
   "cell_type": "code",
   "execution_count": 28,
   "metadata": {},
   "outputs": [
    {
     "name": "stdout",
     "output_type": "stream",
     "text": [
      "Size of training dataset is 2241\n",
      "(2242, 16)   (2242,)\n",
      "(249, 16)   (249,)\n"
     ]
    }
   ],
   "source": [
    "# Creating Momentum variables\n",
    "sp[\"ADX\"] = talib.ADX(high, low, close, timeperiod = 10)\n",
    "sp['AROONDOWN'] = talib.AROON(high, low, timeperiod = 10)[0]\n",
    "sp['AROONUP'] = talib.AROON(high, low,timeperiod = 10)[1]\n",
    "sp[\"AROONOSC\"] = talib.AROONOSC(high, low, timeperiod = 10)\n",
    "sp[\"BOP\"] = talib.BOP(open, high, low, close)\n",
    "sp[\"CCI\"] = talib.CCI(high, low, close, timeperiod = 10)\n",
    "sp[\"CMO\"] = talib.CMO(close, timeperiod = 10)\n",
    "sp[\"MFI\"] = talib.MFI(high, low, close, volume, timeperiod = 10)\n",
    "sp[\"PPO\"] = talib.PPO(close, fastperiod = 10, slowperiod = 20, matype=0)\n",
    "sp[\"ROC\"] = talib.ROC(close, timeperiod = 10)\n",
    "sp[\"RSI\"] = talib.RSI(close, timeperiod = 10)\n",
    "sp[\"TRIX\"] = talib.TRIX(close, timeperiod=10)\n",
    "sp[\"ULTOSC\"] = talib.ULTOSC(high, low, close, timeperiod1=7, timeperiod2=14, timeperiod3=28)\n",
    "\n",
    "# Creating Overlap variables\n",
    "# sp[\"MAMA\"] = talib.MAMA(close, fastlimit=0, slowlimit=0)[0]\n",
    "sp[\"SAR\"] = talib.SAR(high, low, maximum=3)\n",
    "sp[\"TEMA\"] = talib.TEMA(close, timeperiod = 10)\n",
    "sp[\"TRIMA\"] = talib.TRIMA(close, timeperiod = 10)\n",
    "sp[\"WMA\"] = talib.WMA(close, timeperiod=3)\n",
    "\n",
    "# Creating Volume variables\n",
    "sp[\"ADOSC\"] = talib.ADOSC(high, low, close, volume, fastperiod=5, slowperiod=10)\n",
    "sp[\"OBV\"] = talib.OBV(close, volume)\n",
    "\n",
    "sp = sp.dropna(axis=0, how='any').dropna(axis=1, how='any').reset_index(drop=True)\n",
    "\n",
    "defaulter = R\n",
    "predictors =  sp.loc[:,(['ADX','AROONDOWN','AROONUP','CMO', 'CCI', 'MFI', 'PPO', 'RSI', 'TRIX', 'ULTOSC', \n",
    "                         'SAR', 'TEMA', 'TRIMA', 'WMA', 'ADOSC','OBV'])]\n",
    "validation_size = len(sp) // 8\n",
    "train_size = validation_size * 5\n",
    "\n",
    "\n",
    "print(\"Size of training dataset is \" + str(train_size))\n",
    "\n",
    "X_train = predictors.loc[:train_size]\n",
    "Y_train = defaulter.loc[:train_size].values.flatten()\n",
    "print(X_train.shape, \" \", Y_train.shape)\n",
    "\n",
    "X_test = predictors.loc[train_size:,:]\n",
    "Y_test = defaulter.loc[train_size:].values.flatten()\n",
    "print(X_test.shape, \" \", Y_test.shape)"
   ]
  },
  {
   "cell_type": "code",
   "execution_count": null,
   "metadata": {},
   "outputs": [],
   "source": []
  },
  {
   "cell_type": "markdown",
   "metadata": {},
   "source": [
    "We now use SVM to uncover factors."
   ]
  },
  {
   "cell_type": "code",
   "execution_count": null,
   "metadata": {},
   "outputs": [],
   "source": []
  },
  {
   "cell_type": "code",
   "execution_count": null,
   "metadata": {},
   "outputs": [],
   "source": []
  },
  {
   "cell_type": "code",
   "execution_count": null,
   "metadata": {},
   "outputs": [],
   "source": []
  },
  {
   "cell_type": "code",
   "execution_count": null,
   "metadata": {},
   "outputs": [],
   "source": []
  },
  {
   "cell_type": "code",
   "execution_count": null,
   "metadata": {},
   "outputs": [],
   "source": []
  },
  {
   "cell_type": "code",
   "execution_count": null,
   "metadata": {},
   "outputs": [],
   "source": []
  },
  {
   "cell_type": "code",
   "execution_count": null,
   "metadata": {},
   "outputs": [],
   "source": []
  }
 ],
 "metadata": {
  "kernelspec": {
   "display_name": "Python 3",
   "language": "python",
   "name": "python3"
  },
  "language_info": {
   "codemirror_mode": {
    "name": "ipython",
    "version": 3
   },
   "file_extension": ".py",
   "mimetype": "text/x-python",
   "name": "python",
   "nbconvert_exporter": "python",
   "pygments_lexer": "ipython3",
   "version": "3.6.2"
  }
 },
 "nbformat": 4,
 "nbformat_minor": 2
}
